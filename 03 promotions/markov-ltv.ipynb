{
 "cells": [
  {
   "cell_type": "markdown",
   "metadata": {
    "jupyter": {
     "outputs_hidden": true
    }
   },
   "source": [
    "# Customer Life Time Value Model Using Markov Chains \n",
    "\n",
    "Markov chain-based LTV model predicts customer lifetime value using probabilities of transition between different customer states.\n",
    "\n",
    "| Description | See [Introduction to Algorithmic Marketing](https://algorithmicweb.wordpress.com/ ) book |\n",
    "|--|:--|\n",
    "| Dataset | Generated internally, no external dependencies |\n",
    "| Libs | Numpy |"
   ]
  },
  {
   "cell_type": "code",
   "execution_count": 60,
   "metadata": {
    "collapsed": true,
    "jupyter": {
     "outputs_hidden": true
    }
   },
   "outputs": [],
   "source": [
    "%matplotlib inline\n",
    "import sympy as sy\n",
    "import numpy as np\n",
    "import matplotlib.pyplot as plt"
   ]
  },
  {
   "cell_type": "code",
   "execution_count": 61,
   "metadata": {
    "collapsed": true,
    "jupyter": {
     "outputs_hidden": true
    }
   },
   "outputs": [],
   "source": [
    "p1 = 0.7                # Probability of a purchase after 1 month of silence\n",
    "p2 = 0.5                # Probability of a purchase after 2 months of silence\n",
    "p3 = 0.3                # Probability of a purchase after 3 months of silence\n",
    "r = 100                 # Revenue associated with one purchase, $\n",
    "c = 5                   # Cost of one promotion\n",
    "d = 0.001               # Inflation rate for one month\n",
    "projection_horizon = 10 # LTV projection horizon, months"
   ]
  },
  {
   "cell_type": "code",
   "execution_count": 62,
   "metadata": {
    "collapsed": true,
    "jupyter": {
     "outputs_hidden": true
    }
   },
   "outputs": [],
   "source": [
    "# Transition probabilities\n",
    "P = np.matrix([\n",
    "[  p1,  1-p1,   0,    0   ],\n",
    "[  p2,   0,    1-p2,  0   ],\n",
    "[  p3,   0,     0,   1-p3 ],\n",
    "[  0,    0,     0,    0]\n",
    "])\n",
    "\n",
    "# Expected revenue\n",
    "G = np.matrix([\n",
    "[  r-c  ], # If customer goes to the initial state (purchases), we get the revenue minus promotion cost\n",
    "[  -c   ], # If customer is silent for one month, we send promotion and lose c dollars \n",
    "[  -c   ], # If customer is silent for two months, we send promotion and lose c dollars \n",
    "[  0    ]  # If customer is silent for three month, we stop to send promotions\n",
    "])"
   ]
  },
  {
   "cell_type": "code",
   "execution_count": 69,
   "metadata": {},
   "outputs": [
    {
     "data": {
      "image/png": "[encoded data removed]",
      "text/plain": [
       "<matplotlib.figure.Figure at 0x114b93358>"
      ]
     },
     "metadata": {},
     "output_type": "display_data"
    }
   ],
   "source": [
    "# Calculate and visualize the LTV. Each line on the plot corresponds to a customer state\n",
    "#\n",
    "# For example, the topmost line corresponds to the first state (just purchased)\n",
    "# It indicates that the cumulative revenue from this cusomer is likely to grow over \n",
    "# next projection_horizon months.\n",
    "#\n",
    "# The bottommost line corresponds to customers who are silent for 3 months\n",
    "# This customers are considred lost, so this line is constantly zero\n",
    "ltv_dynamics = [\n",
    "   sum( \n",
    "      (1/((1+d)**(t-1))) * (P**t)*G \n",
    "      for t in range(1, T+1)\n",
    "   ) for T in range(1, projection_horizon)\n",
    "]\n",
    "plt.plot(np.concatenate(ltv_dynamics, axis=1).T);"
   ]
  }
 ],
 "metadata": {
  "kernelspec": {
   "display_name": "Python 3",
   "language": "python",
   "name": "python3"
  },
  "language_info": {
   "codemirror_mode": {
    "name": "ipython",
    "version": 3
   },
   "file_extension": ".py",
   "mimetype": "text/x-python",
   "name": "python",
   "nbconvert_exporter": "python",
   "pygments_lexer": "ipython3",
   "version": "3.7.4"
  }
 },
 "nbformat": 4,
 "nbformat_minor": 4
}
